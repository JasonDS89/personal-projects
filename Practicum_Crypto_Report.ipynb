{
 "cells": [
  {
   "cell_type": "markdown",
   "id": "42e0df51-1be5-4c61-ab2f-781f7084b5b8",
   "metadata": {},
   "source": [
    "### Jason Benjamin \n",
    "### Data Science Practicum\n",
    "### Professor Keiana Dunn\n",
    "### 12/2022\n",
    "\n",
    "### Nothing in cryptocurrency makes sense except in the light of market volatality..."
   ]
  },
  {
   "cell_type": "markdown",
   "id": "4eb1eb2f-3a65-461b-9e88-829a434dd0ac",
   "metadata": {},
   "source": [
    "This project was designed to load historical data from Apple, Microsoft, Google, Amazon, Gold, Bitcoin, and Ethereum. \n",
    "I will attempt to use scikit-learn to run linear regression on the data to make predictions based on the open and low value. \n",
    "The data will be loaded using pandas and visualized with matplotlib.\n",
    "The visualizations will illustrate the monthly stock price from December 1, 2017 through December 1, 2022.\n",
    "If I started by investing $1000 in 2017 where would I receive the highest return on my investment?"
   ]
  },
  {
   "cell_type": "code",
   "execution_count": 1,
   "id": "7e571b24-3713-48c3-abd4-d998cdf45650",
   "metadata": {},
   "outputs": [],
   "source": [
    "# Load the necessary libraries:\n",
    "\n",
    "import os\n",
    "import numpy as np\n",
    "import pandas as pd\n",
    "import sklearn as sk\n",
    "from sklearn import linear_model\n",
    "from sklearn.linear_model import LinearRegression\n",
    "import matplotlib.pyplot as plt\n",
    "from matplotlib import style\n",
    "style.use('ggplot')\n",
    "\n",
    "# Ignore warnings:\n",
    "\n",
    "import warnings\n",
    "warnings.filterwarnings('ignore')"
   ]
  },
  {
   "cell_type": "code",
   "execution_count": 2,
   "id": "b93cd493-8073-4ae7-b491-59ddb86c7016",
   "metadata": {},
   "outputs": [],
   "source": [
    "# Load the historicaal data and store the data frames in seperate variables.\n",
    "\n",
    "aapl  = pd.read_csv('aapl.csv')\n",
    "amzn  = pd.read_csv('amzn.csv')\n",
    "btc   = pd.read_csv('btc.csv')\n",
    "eth   = pd.read_csv('eth.csv')\n",
    "gold  = pd.read_csv('gold.csv')\n",
    "googl = pd.read_csv('googl.csv')\n",
    "msft  = pd.read_csv('msft.csv')\n",
    "\n",
    "# These commands may be useful for future development. \n",
    "# df.sort_values(by='Date', ascending=False) Sort Values.\n",
    "# Bit_df = Bit_df.replace(',','', regex=True) Remove commas from numbers.\n",
    "# Bit_df['Price'] = Bit_df['Price'].astype(float) Change data type to number.\n",
    "# aapl = aapl_df.drop(columns = ['Price', 'Open', 'Low', 'Vol.', 'Change %']) Drop unnecessary columns."
   ]
  },
  {
   "cell_type": "code",
   "execution_count": 3,
   "id": "19f2600b-ac78-4725-a204-033f89fb7ece",
   "metadata": {},
   "outputs": [
    {
     "data": {
      "text/html": [
       "<div>\n",
       "<style scoped>\n",
       "    .dataframe tbody tr th:only-of-type {\n",
       "        vertical-align: middle;\n",
       "    }\n",
       "\n",
       "    .dataframe tbody tr th {\n",
       "        vertical-align: top;\n",
       "    }\n",
       "\n",
       "    .dataframe thead th {\n",
       "        text-align: right;\n",
       "    }\n",
       "</style>\n",
       "<table border=\"1\" class=\"dataframe\">\n",
       "  <thead>\n",
       "    <tr style=\"text-align: right;\">\n",
       "      <th></th>\n",
       "      <th>Date</th>\n",
       "      <th>Price</th>\n",
       "      <th>Open</th>\n",
       "      <th>High</th>\n",
       "      <th>Low</th>\n",
       "      <th>Vol.</th>\n",
       "      <th>Change %</th>\n",
       "    </tr>\n",
       "  </thead>\n",
       "  <tbody>\n",
       "    <tr>\n",
       "      <th>0</th>\n",
       "      <td>12/01/2022</td>\n",
       "      <td>129.93</td>\n",
       "      <td>148.21</td>\n",
       "      <td>150.92</td>\n",
       "      <td>125.87</td>\n",
       "      <td>1.68B</td>\n",
       "      <td>-12.23%</td>\n",
       "    </tr>\n",
       "    <tr>\n",
       "      <th>1</th>\n",
       "      <td>11/01/2022</td>\n",
       "      <td>148.03</td>\n",
       "      <td>155.25</td>\n",
       "      <td>155.38</td>\n",
       "      <td>134.40</td>\n",
       "      <td>80.38M</td>\n",
       "      <td>-3.46%</td>\n",
       "    </tr>\n",
       "    <tr>\n",
       "      <th>2</th>\n",
       "      <td>10/01/2022</td>\n",
       "      <td>153.34</td>\n",
       "      <td>138.21</td>\n",
       "      <td>157.50</td>\n",
       "      <td>134.37</td>\n",
       "      <td>1.87B</td>\n",
       "      <td>10.96%</td>\n",
       "    </tr>\n",
       "    <tr>\n",
       "      <th>3</th>\n",
       "      <td>09/01/2022</td>\n",
       "      <td>138.20</td>\n",
       "      <td>156.64</td>\n",
       "      <td>164.26</td>\n",
       "      <td>138.00</td>\n",
       "      <td>2.08B</td>\n",
       "      <td>-12.10%</td>\n",
       "    </tr>\n",
       "    <tr>\n",
       "      <th>4</th>\n",
       "      <td>08/01/2022</td>\n",
       "      <td>157.22</td>\n",
       "      <td>161.01</td>\n",
       "      <td>176.15</td>\n",
       "      <td>157.14</td>\n",
       "      <td>1.51B</td>\n",
       "      <td>-3.26%</td>\n",
       "    </tr>\n",
       "  </tbody>\n",
       "</table>\n",
       "</div>"
      ],
      "text/plain": [
       "         Date   Price    Open    High     Low    Vol. Change %\n",
       "0  12/01/2022  129.93  148.21  150.92  125.87   1.68B  -12.23%\n",
       "1  11/01/2022  148.03  155.25  155.38  134.40  80.38M   -3.46%\n",
       "2  10/01/2022  153.34  138.21  157.50  134.37   1.87B   10.96%\n",
       "3  09/01/2022  138.20  156.64  164.26  138.00   2.08B  -12.10%\n",
       "4  08/01/2022  157.22  161.01  176.15  157.14   1.51B   -3.26%"
      ]
     },
     "execution_count": 3,
     "metadata": {},
     "output_type": "execute_result"
    }
   ],
   "source": [
    "# Preview the data frame.\n",
    "\n",
    "aapl.head()"
   ]
  },
  {
   "cell_type": "code",
   "execution_count": 4,
   "id": "15fdb932-ed38-442a-a37a-6de906fb1cdc",
   "metadata": {},
   "outputs": [
    {
     "data": {
      "text/plain": [
       "Date         object\n",
       "Price       float64\n",
       "Open        float64\n",
       "High        float64\n",
       "Low         float64\n",
       "Vol.         object\n",
       "Change %     object\n",
       "dtype: object"
      ]
     },
     "execution_count": 4,
     "metadata": {},
     "output_type": "execute_result"
    }
   ],
   "source": [
    "# Check the data types:\n",
    "\n",
    "aapl.dtypes"
   ]
  },
  {
   "cell_type": "code",
   "execution_count": 5,
   "id": "79ca3432-f3f0-48ab-94c0-c65acb62fb70",
   "metadata": {},
   "outputs": [
    {
     "data": {
      "text/plain": [
       "Date         object\n",
       "Price       float64\n",
       "Open        float64\n",
       "High        float64\n",
       "Low         float64\n",
       "Vol.         object\n",
       "Change %     object\n",
       "dtype: object"
      ]
     },
     "execution_count": 5,
     "metadata": {},
     "output_type": "execute_result"
    }
   ],
   "source": [
    "amzn.dtypes"
   ]
  },
  {
   "cell_type": "code",
   "execution_count": 6,
   "id": "5909b190-fb0a-426b-a7a8-e6a3fc3afcbe",
   "metadata": {},
   "outputs": [
    {
     "data": {
      "text/plain": [
       "Date        object\n",
       "Price       object\n",
       "Open        object\n",
       "High        object\n",
       "Low         object\n",
       "Vol.        object\n",
       "Change %    object\n",
       "dtype: object"
      ]
     },
     "execution_count": 6,
     "metadata": {},
     "output_type": "execute_result"
    }
   ],
   "source": [
    "btc.dtypes"
   ]
  },
  {
   "cell_type": "code",
   "execution_count": 7,
   "id": "41c0ce0f-1347-492b-9875-d8a2abca7c37",
   "metadata": {},
   "outputs": [
    {
     "data": {
      "text/plain": [
       "Date        object\n",
       "Price       object\n",
       "Open        object\n",
       "High        object\n",
       "Low         object\n",
       "Vol.        object\n",
       "Change %    object\n",
       "dtype: object"
      ]
     },
     "execution_count": 7,
     "metadata": {},
     "output_type": "execute_result"
    }
   ],
   "source": [
    "eth.dtypes"
   ]
  },
  {
   "cell_type": "code",
   "execution_count": 8,
   "id": "4c52d98c-65bb-4ef3-b514-e3ea7c5f0f8b",
   "metadata": {},
   "outputs": [
    {
     "data": {
      "text/plain": [
       "Date        object\n",
       "Price       object\n",
       "Open        object\n",
       "High        object\n",
       "Low         object\n",
       "Vol.        object\n",
       "Change %    object\n",
       "dtype: object"
      ]
     },
     "execution_count": 8,
     "metadata": {},
     "output_type": "execute_result"
    }
   ],
   "source": [
    "gold.dtypes"
   ]
  },
  {
   "cell_type": "code",
   "execution_count": 9,
   "id": "7ef96c38-57e8-4e09-bae4-7acbeea5df88",
   "metadata": {},
   "outputs": [
    {
     "data": {
      "text/plain": [
       "Date         object\n",
       "Price       float64\n",
       "Open        float64\n",
       "High        float64\n",
       "Low         float64\n",
       "Vol.         object\n",
       "Change %     object\n",
       "dtype: object"
      ]
     },
     "execution_count": 9,
     "metadata": {},
     "output_type": "execute_result"
    }
   ],
   "source": [
    "googl.dtypes"
   ]
  },
  {
   "cell_type": "code",
   "execution_count": 10,
   "id": "5b8ead77-ab26-44bc-a670-ff51186bab8e",
   "metadata": {},
   "outputs": [
    {
     "data": {
      "text/plain": [
       "Date         object\n",
       "Price       float64\n",
       "Open        float64\n",
       "High        float64\n",
       "Low         float64\n",
       "Vol.         object\n",
       "Change %     object\n",
       "dtype: object"
      ]
     },
     "execution_count": 10,
     "metadata": {},
     "output_type": "execute_result"
    }
   ],
   "source": [
    "msft.dtypes"
   ]
  },
  {
   "cell_type": "code",
   "execution_count": 11,
   "id": "65ff8c18-9542-4be1-8529-31508faaef9d",
   "metadata": {},
   "outputs": [
    {
     "data": {
      "text/html": [
       "<div>\n",
       "<style scoped>\n",
       "    .dataframe tbody tr th:only-of-type {\n",
       "        vertical-align: middle;\n",
       "    }\n",
       "\n",
       "    .dataframe tbody tr th {\n",
       "        vertical-align: top;\n",
       "    }\n",
       "\n",
       "    .dataframe thead th {\n",
       "        text-align: right;\n",
       "    }\n",
       "</style>\n",
       "<table border=\"1\" class=\"dataframe\">\n",
       "  <thead>\n",
       "    <tr style=\"text-align: right;\">\n",
       "      <th></th>\n",
       "      <th>Date</th>\n",
       "      <th>Price</th>\n",
       "      <th>Open</th>\n",
       "      <th>High</th>\n",
       "      <th>Low</th>\n",
       "      <th>Vol.</th>\n",
       "      <th>Change %</th>\n",
       "    </tr>\n",
       "  </thead>\n",
       "  <tbody>\n",
       "    <tr>\n",
       "      <th>0</th>\n",
       "      <td>Dec 22</td>\n",
       "      <td>16537.4</td>\n",
       "      <td>17163.4</td>\n",
       "      <td>18351.8</td>\n",
       "      <td>16331.2</td>\n",
       "      <td>6.61M</td>\n",
       "      <td>-3.65%</td>\n",
       "    </tr>\n",
       "    <tr>\n",
       "      <th>1</th>\n",
       "      <td>Nov 22</td>\n",
       "      <td>17163.9</td>\n",
       "      <td>20496.1</td>\n",
       "      <td>21464.7</td>\n",
       "      <td>15504.2</td>\n",
       "      <td>10.30M</td>\n",
       "      <td>-16.26%</td>\n",
       "    </tr>\n",
       "    <tr>\n",
       "      <th>2</th>\n",
       "      <td>Oct 22</td>\n",
       "      <td>20496.3</td>\n",
       "      <td>19422.9</td>\n",
       "      <td>21038.1</td>\n",
       "      <td>18207.9</td>\n",
       "      <td>8.29M</td>\n",
       "      <td>5.53%</td>\n",
       "    </tr>\n",
       "    <tr>\n",
       "      <th>3</th>\n",
       "      <td>Sep 22</td>\n",
       "      <td>19423.0</td>\n",
       "      <td>20049.9</td>\n",
       "      <td>22702.5</td>\n",
       "      <td>18191.8</td>\n",
       "      <td>10.91M</td>\n",
       "      <td>-3.10%</td>\n",
       "    </tr>\n",
       "    <tr>\n",
       "      <th>4</th>\n",
       "      <td>Aug 22</td>\n",
       "      <td>20043.9</td>\n",
       "      <td>23303.4</td>\n",
       "      <td>25205.7</td>\n",
       "      <td>19542.9</td>\n",
       "      <td>6.55M</td>\n",
       "      <td>-13.99%</td>\n",
       "    </tr>\n",
       "  </tbody>\n",
       "</table>\n",
       "</div>"
      ],
      "text/plain": [
       "     Date    Price     Open     High      Low    Vol. Change %\n",
       "0  Dec 22  16537.4  17163.4  18351.8  16331.2   6.61M   -3.65%\n",
       "1  Nov 22  17163.9  20496.1  21464.7  15504.2  10.30M  -16.26%\n",
       "2  Oct 22  20496.3  19422.9  21038.1  18207.9   8.29M    5.53%\n",
       "3  Sep 22  19423.0  20049.9  22702.5  18191.8  10.91M   -3.10%\n",
       "4  Aug 22  20043.9  23303.4  25205.7  19542.9   6.55M  -13.99%"
      ]
     },
     "execution_count": 11,
     "metadata": {},
     "output_type": "execute_result"
    }
   ],
   "source": [
    "# We need to remove all the commas from the data frames so that we can convert them to numerical values.\n",
    "\n",
    "btc  = btc.replace(',','', regex=True) \n",
    "eth  = eth.replace(',','', regex=True) \n",
    "gold = gold.replace(',','', regex=True) \n",
    "\n",
    "# Change Price, Open, High, and Low to floats.\n",
    "\n",
    "btc['Price']  = btc['Price'].astype(float)\n",
    "btc['Open']   = btc['Open'].astype(float)\n",
    "btc['High']   = btc['High'].astype(float)\n",
    "btc['Low']    = btc['Low'].astype(float)\n",
    "\n",
    "eth['Price']  = eth['Price'].astype(float)\n",
    "eth['Open']   = eth['Open'].astype(float)\n",
    "eth['High']   = eth['High'].astype(float)\n",
    "eth['Low']    = eth['Low'].astype(float)\n",
    "\n",
    "gold['Price'] = gold['Price'].astype(float)\n",
    "gold['Open']  = gold['Open'].astype(float)\n",
    "gold['High']  = gold['High'].astype(float)\n",
    "gold['Low']   = gold['Low'].astype(float)\n",
    "\n",
    "btc.head()"
   ]
  },
  {
   "cell_type": "code",
   "execution_count": 12,
   "id": "ba9fecbd-f940-42e2-8033-ceb02714a7ce",
   "metadata": {},
   "outputs": [
    {
     "data": {
      "text/plain": [
       "Date         object\n",
       "Price       float64\n",
       "Open        float64\n",
       "High        float64\n",
       "Low         float64\n",
       "Vol.         object\n",
       "Change %     object\n",
       "dtype: object"
      ]
     },
     "execution_count": 12,
     "metadata": {},
     "output_type": "execute_result"
    }
   ],
   "source": [
    "gold.dtypes"
   ]
  },
  {
   "cell_type": "markdown",
   "id": "8501d0eb-d9c7-4140-b737-6de70f1883e7",
   "metadata": {},
   "source": [
    "## Apple Case Study"
   ]
  },
  {
   "cell_type": "code",
   "execution_count": 13,
   "id": "f1e851c6-7601-45e0-ba3f-cda3395bcbcf",
   "metadata": {},
   "outputs": [
    {
     "data": {
      "image/png": "[encoded data removed]",
      "text/plain": [
       "<Figure size 720x360 with 1 Axes>"
      ]
     },
     "metadata": {},
     "output_type": "display_data"
    }
   ],
   "source": [
    "# Let's make sure the date column is actually a date in pandas.\n",
    "aapl[\"Date\"] = pd.to_datetime(aapl[\"Date\"])\n",
    "\n",
    "# Define X and Y axis.\n",
    "date = aapl[\"Date\"]\n",
    "high = aapl[\"High\"]\n",
    "\n",
    "# Plot the graph\n",
    "fig, ax = plt.subplots(figsize=(10, 5))\n",
    "ax.set_xlabel('Date')\n",
    "ax.set_ylabel('High')\n",
    "ax.set_title('AAPL Stock History')\n",
    "ax.plot(date, high, color = \"green\")\n",
    "plt.savefig('aapl.png', dpi=300);"
   ]
  },
  {
   "cell_type": "code",
   "execution_count": 14,
   "id": "c58f1a84-2cfa-4076-b2ad-137710fdf942",
   "metadata": {},
   "outputs": [
    {
     "name": "stdout",
     "output_type": "stream",
     "text": [
      "3406.7720090293456\n"
     ]
    }
   ],
   "source": [
    "# In December of 2017 Apple's high was $44.30 \n",
    "# In December of 2022 Apple's high was $150.92\n",
    "\n",
    "begin_value = 44.3\n",
    "end_value   = 150.92\n",
    "shares      = (1000/begin_value) \n",
    "aapl_total  = (shares * end_value)\n",
    "\n",
    "print(aapl_total)"
   ]
  },
  {
   "cell_type": "code",
   "execution_count": 15,
   "id": "1bb41a7b-d8f5-400f-98ce-7e77b1eaa79a",
   "metadata": {
    "tags": []
   },
   "outputs": [
    {
     "name": "stdout",
     "output_type": "stream",
     "text": [
      "alpha = 0.8956691308689386\n",
      "betas = [0.52185345 0.58605666]\n"
     ]
    }
   ],
   "source": [
    "# Build linear regression model using Open and Low values as predictors.\n",
    "# Split data into predictors X and output Y.\n",
    "\n",
    "predictors = ['Open', 'Low']\n",
    "X = aapl[predictors]\n",
    "y = aapl['High']\n",
    "\n",
    "# Initialize and fit the model.\n",
    "\n",
    "lm = LinearRegression()\n",
    "model = lm.fit(X, y)\n",
    "\n",
    "print(f'alpha = {model.intercept_}')\n",
    "print(f'betas = {model.coef_}')"
   ]
  },
  {
   "cell_type": "code",
   "execution_count": 16,
   "id": "cd91fb1f-fa67-40e0-a1a3-a9cc146030c4",
   "metadata": {},
   "outputs": [
    {
     "name": "stdout",
     "output_type": "stream",
     "text": [
      "[152.00652139 160.67943302 151.76946851 163.51461331 177.01223742\n",
      " 151.39305961 154.74625334 160.39229764 182.77530964 174.80681922\n",
      " 180.78400105 184.35983422 180.77542665 165.07825157 155.98072873\n",
      " 163.44275694 161.95932813 151.74390321 138.33025579 141.44662595\n",
      " 137.21414763 133.58067859 140.07681664 144.63938308 134.37781545\n",
      " 120.73070032 125.41653293 130.59937534 120.58986598 100.77154315\n",
      "  88.82600071  80.11911128  67.76441498  68.87177886  78.15865127\n",
      "  82.43762293  73.31456718  69.95435699  61.7784902   57.74671842\n",
      "  57.02302005  56.46901643  48.75346781  53.91729875  53.49507627\n",
      "  48.4699054   46.98746259  41.90684632  46.44252703  54.41493573\n",
      "  60.82973662  62.2409314   55.78370914  51.74553324  51.9008214\n",
      "  46.82063404  46.33389409  48.3491049   44.71621314  47.22326778\n",
      "  47.46090061]\n"
     ]
    }
   ],
   "source": [
    "# Predictions in numpy array. \n",
    "\n",
    "predict_array = model.predict(X)\n",
    "print(predict_array)"
   ]
  },
  {
   "cell_type": "code",
   "execution_count": 17,
   "id": "ba6477aa-a340-4ff6-9a50-7bc61383a4e7",
   "metadata": {},
   "outputs": [
    {
     "name": "stdout",
     "output_type": "stream",
     "text": [
      "[180.12852264]\n"
     ]
    }
   ],
   "source": [
    "# Predict the High based on hypothetical Open and Low values.\n",
    "\n",
    "new_X = [[175, 150]]\n",
    "print(model.predict(new_X))"
   ]
  },
  {
   "cell_type": "markdown",
   "id": "7330cb44-3b5d-40ca-b912-e8e296701ce0",
   "metadata": {},
   "source": [
    "## Amazon Case Study"
   ]
  },
  {
   "cell_type": "code",
   "execution_count": 48,
   "id": "ed49626b-2d91-42f7-a4fd-589176fafe7b",
   "metadata": {},
   "outputs": [
    {
     "data": {
      "image/png": "[encoded data removed]",
      "text/plain": [
       "<Figure size 720x360 with 1 Axes>"
      ]
     },
     "metadata": {},
     "output_type": "display_data"
    }
   ],
   "source": [
    "# Let's make sure the date column is actually a date in pandas.\n",
    "amzn[\"Date\"] = pd.to_datetime(aapl[\"Date\"])\n",
    "\n",
    "# Define X and Y axis.\n",
    "date = amzn[\"Date\"]\n",
    "high = amzn[\"High\"]\n",
    "\n",
    "# Plot the graph.\n",
    "fig, ax = plt.subplots(figsize=(10, 5))\n",
    "ax.set_xlabel('Date')\n",
    "ax.set_ylabel('High')\n",
    "ax.set_title('AMZN Stock History')\n",
    "ax.plot(date, high, color = \"red\")\n",
    "plt.savefig('amzn.png', dpi=300);"
   ]
  },
  {
   "cell_type": "code",
   "execution_count": 19,
   "id": "21b6315b-0ab2-4176-b076-e9373a1243ad",
   "metadata": {},
   "outputs": [
    {
     "name": "stdout",
     "output_type": "stream",
     "text": [
      "1627.5527284901239\n"
     ]
    }
   ],
   "source": [
    "# In December of 2017 Amazon's high was $59.74 \n",
    "# In December of 2022 Amazon's high was $97.23\n",
    "\n",
    "begin_value = 59.74\n",
    "end_value   = 97.23\n",
    "shares      = (1000/begin_value) \n",
    "amzn_total  = (shares * end_value)\n",
    "\n",
    "print(amzn_total)"
   ]
  },
  {
   "cell_type": "code",
   "execution_count": 20,
   "id": "c607fdf5-9075-42b6-8ce3-1b1a769cea9f",
   "metadata": {},
   "outputs": [
    {
     "name": "stdout",
     "output_type": "stream",
     "text": [
      "alpha = 3.7079906584699103\n",
      "betas = [0.63223969 0.44274956]\n"
     ]
    }
   ],
   "source": [
    "# Build linear regression model using Open and Low values as predictors.\n",
    "# Split data into predictors X and output Y.\n",
    "\n",
    "predictors = ['Open', 'Low']\n",
    "X = amzn[predictors]\n",
    "y = amzn['High']\n",
    "\n",
    "# Initialize and fit the model.\n",
    "\n",
    "lm = LinearRegression()\n",
    "model = lm.fit(X, y)\n",
    "\n",
    "print(f'alpha = {model.intercept_}')\n",
    "print(f'betas = {model.coef_}')"
   ]
  },
  {
   "cell_type": "code",
   "execution_count": 21,
   "id": "66710249-4bc8-489a-8c2c-c633ca3cb346",
   "metadata": {},
   "outputs": [
    {
     "name": "stdout",
     "output_type": "stream",
     "text": [
      "[101.19713005 107.47350106 118.75669703 132.98470769 145.14913888\n",
      " 117.77378858 125.91370341 125.92694954 161.34176525 159.40801772\n",
      " 159.78949127 169.56590418 188.91470358 182.67178345 177.99286583\n",
      " 186.71423679 180.00717785 185.49115292 176.46280942 183.10218349\n",
      " 171.24568529 166.36203039 173.43378291 175.3954376  172.53000734\n",
      " 165.80755288 171.95228353 177.57787165 172.28153896 151.86045876\n",
      " 135.04759049 127.52988177 106.63608044  99.96861743 107.36244716\n",
      " 103.16883946  99.15718011  98.36866633  96.2041663   97.4985809\n",
      " 101.47821018 105.43888897  96.35894687 104.059278   100.43678087\n",
      "  91.15547026  90.19871165  82.36872594  88.57592005  86.46842771\n",
      " 100.31119614 109.05291284  99.41993222  94.05132653  91.65158608\n",
      "  87.34838607  78.46872035  81.7779756   77.41335563  66.67136843\n",
      "  65.65747193]\n"
     ]
    }
   ],
   "source": [
    "# Predictions in numpy array. \n",
    "\n",
    "predict_array = model.predict(X)\n",
    "print(predict_array)"
   ]
  },
  {
   "cell_type": "code",
   "execution_count": 22,
   "id": "686db945-2e64-4817-9416-220a140236b0",
   "metadata": {},
   "outputs": [
    {
     "name": "stdout",
     "output_type": "stream",
     "text": [
      "[106.77942037]\n"
     ]
    }
   ],
   "source": [
    "# Predict the High based on hypothetical Open and Low values.\n",
    "\n",
    "new_X = [[100, 90]]\n",
    "print(model.predict(new_X))"
   ]
  },
  {
   "cell_type": "markdown",
   "id": "9cdb8666-42ce-4eaa-a353-2bd4868b5f3f",
   "metadata": {},
   "source": [
    "## Bitcoin Case Study"
   ]
  },
  {
   "cell_type": "code",
   "execution_count": 23,
   "id": "fa3908d6-9f92-4424-9ede-187bcea7d3be",
   "metadata": {},
   "outputs": [
    {
     "data": {
      "image/png": "[encoded data removed]",
      "text/plain": [
       "<Figure size 720x360 with 1 Axes>"
      ]
     },
     "metadata": {},
     "output_type": "display_data"
    }
   ],
   "source": [
    "# Let's make sure the date column is actually a date in pandas.\n",
    "btc[\"Date\"] = pd.to_datetime(aapl[\"Date\"])\n",
    "\n",
    "# Define X and Y axis.\n",
    "date = btc[\"Date\"]\n",
    "high = btc[\"High\"]\n",
    "\n",
    "# Plot the graph\n",
    "fig, ax = plt.subplots(figsize=(10, 5))\n",
    "ax.set_xlabel('Date')\n",
    "ax.set_ylabel('High')\n",
    "ax.set_title('BTC Price History')\n",
    "ax.plot(date, high, color = \"purple\")\n",
    "plt.savefig('btc.png', dpi=300);"
   ]
  },
  {
   "cell_type": "code",
   "execution_count": 24,
   "id": "5161760c-69e2-44b4-b71c-b30df720adcc",
   "metadata": {},
   "outputs": [
    {
     "name": "stdout",
     "output_type": "stream",
     "text": [
      "923.5654685817238\n"
     ]
    }
   ],
   "source": [
    "# In December of 2017 Bitcoin's high was $19870.6\n",
    "# In November of 2021 Bitcoin was worth almost $69000\n",
    "# In December of 2022 Bitcoin's high was $18351.8\n",
    "\n",
    "begin_value = 19870.6\n",
    "end_value   = 18351.8\n",
    "shares      = (1000/begin_value) \n",
    "btc_total   = (shares * end_value)\n",
    "\n",
    "print(btc_total)"
   ]
  },
  {
   "cell_type": "code",
   "execution_count": 25,
   "id": "adda08f3-56c3-46cd-a30c-d706805c7cc8",
   "metadata": {},
   "outputs": [
    {
     "name": "stdout",
     "output_type": "stream",
     "text": [
      "alpha = 249.35792955266515\n",
      "betas = [0.44669935 0.8692493 ]\n"
     ]
    }
   ],
   "source": [
    "# Build linear regression model using Open and Low values as predictors.\n",
    "# Split data into predictors X and output Y.\n",
    "\n",
    "predictors = ['Open', 'Low']\n",
    "X = btc[predictors]\n",
    "y = btc['High']\n",
    "\n",
    "# Initialize and fit the model.\n",
    "\n",
    "lm = LinearRegression()\n",
    "model = lm.fit(X, y)\n",
    "\n",
    "print(f'alpha = {model.intercept_}')\n",
    "print(f'betas = {model.coef_}')"
   ]
  },
  {
   "cell_type": "code",
   "execution_count": 26,
   "id": "f205e58f-9a8d-4fe4-9263-55c4a0c490ca",
   "metadata": {},
   "outputs": [
    {
     "name": "stdout",
     "output_type": "stream",
     "text": [
      "[22112.12163136 22881.96737132 24752.75896246 25018.84453863\n",
      " 27646.6235881  25487.57613673 29776.61466591 40099.55575043\n",
      " 53267.42908629 51861.5662733  47301.52914088 49567.39461877\n",
      " 62682.25839361 74096.43679308 57458.01171159 55764.89384156\n",
      " 51271.69552684 41375.41950333 42031.56672906 52337.40365051\n",
      " 67439.17903153 59546.39157944 43136.54049284 37698.80522996\n",
      " 24347.22688884 22578.64993334 14092.67211669 14036.47670215\n",
      " 14639.54440703 14509.0537266  12178.83270392 11262.5374307\n",
      "  8466.08844757  7429.42796269 11852.28935824  9447.98420018\n",
      "  9237.63736202 10018.41203023 10321.16397102 11271.11695997\n",
      " 12874.33226357 12978.31391245 10574.05201715  7250.26146393\n",
      "  5625.60819754  5154.67739133  4725.21202411  4834.19464135\n",
      "  4815.04760009  6252.02709726  8459.13002273  8586.22946852\n",
      "  8828.76696338  8669.4553326   8629.58774045 10524.5567449\n",
      "  8964.4867558  10606.38885869 10047.80309953 14495.43824378\n",
      " 12881.83171212]\n"
     ]
    }
   ],
   "source": [
    "# Predictions in numpy array. \n",
    "\n",
    "predict_array = model.predict(X)\n",
    "print(predict_array)"
   ]
  },
  {
   "cell_type": "code",
   "execution_count": 27,
   "id": "f3532601-99f7-464b-84b5-5c81716a8954",
   "metadata": {},
   "outputs": [
    {
     "name": "stdout",
     "output_type": "stream",
     "text": [
      "[57354.29717608]\n"
     ]
    }
   ],
   "source": [
    "# Predict the High based on hypothetical Open and Low values.\n",
    "\n",
    "new_X = [[50000, 40000]]\n",
    "print(model.predict(new_X))"
   ]
  },
  {
   "cell_type": "markdown",
   "id": "3ca54eea-7b7c-4d33-a7e0-dcbc6535f38b",
   "metadata": {},
   "source": [
    "## Ethereum Case Study"
   ]
  },
  {
   "cell_type": "code",
   "execution_count": 28,
   "id": "0455e85e-fe2f-4429-b9ae-10d68e6d5859",
   "metadata": {},
   "outputs": [
    {
     "data": {
      "image/png": "[encoded data removed]",
      "text/plain": [
       "<Figure size 720x360 with 1 Axes>"
      ]
     },
     "metadata": {},
     "output_type": "display_data"
    }
   ],
   "source": [
    "# Let's make sure the date column is actually a date in pandas.\n",
    "eth[\"Date\"] = pd.to_datetime(aapl[\"Date\"])\n",
    "\n",
    "# Define X and Y axis.\n",
    "date = eth[\"Date\"]\n",
    "high = eth[\"High\"]\n",
    "\n",
    "# Plot the graph\n",
    "fig, ax = plt.subplots(figsize=(10, 5))\n",
    "ax.set_xlabel('Date')\n",
    "ax.set_ylabel('High')\n",
    "ax.set_title('ETH Price History')\n",
    "ax.plot(date, high, color = \"purple\")\n",
    "plt.savefig('eth.png', dpi=300);"
   ]
  },
  {
   "cell_type": "code",
   "execution_count": 29,
   "id": "c1e6a13a-8c96-4d2b-849e-20eabf6a1b6d",
   "metadata": {},
   "outputs": [
    {
     "name": "stdout",
     "output_type": "stream",
     "text": [
      "1562.4913093858634\n"
     ]
    }
   ],
   "source": [
    "# In December of 2017 Ethereum's high was $863\n",
    "# In December of 2022 Ethereum's high was $1348.43\n",
    "\n",
    "begin_value = 863\n",
    "end_value   = 1348.43\n",
    "shares      = (1000/begin_value) \n",
    "eth_total   = (shares * end_value)\n",
    "\n",
    "print(eth_total)"
   ]
  },
  {
   "cell_type": "code",
   "execution_count": 30,
   "id": "8e9a6eaa-de6b-4bfb-8d09-1d87ad5c63d4",
   "metadata": {},
   "outputs": [
    {
     "name": "stdout",
     "output_type": "stream",
     "text": [
      "alpha = 81.23324776325512\n",
      "betas = [0.69711704 0.5809587 ]\n"
     ]
    }
   ],
   "source": [
    "# Build linear regression model using Open and Low values as predictors.\n",
    "# Split data into predictors X and output Y.\n",
    "\n",
    "predictors = ['Open', 'Low']\n",
    "X = eth[predictors]\n",
    "y = eth['High']\n",
    "\n",
    "# Initialize and fit the model.\n",
    "\n",
    "lm = LinearRegression()\n",
    "model = lm.fit(X, y)\n",
    "\n",
    "print(f'alpha = {model.intercept_}')\n",
    "print(f'betas = {model.coef_}')"
   ]
  },
  {
   "cell_type": "code",
   "execution_count": 31,
   "id": "e3c82de4-cc76-46e5-ac6c-c08bcebc4e96",
   "metadata": {},
   "outputs": [
    {
     "name": "stdout",
     "output_type": "stream",
     "text": [
      "[1653.15967753 1803.00170055 1702.70617438 1875.05048622 2079.85282903\n",
      " 1414.64066529 1948.09194686 2975.04848071 3947.46533113 3540.55180332\n",
      " 3292.2497923  3900.78487608 5360.53151638 5345.92483323 3899.53172996\n",
      " 4017.28235078 3266.32332621 2666.48157905 2960.82028357 3024.64574321\n",
      " 2521.1747739  1890.43183199 1735.36356039 1009.6933742   819.62044711\n",
      "  566.08382455  525.95093294  566.20191457  517.83305097  368.3715201\n",
      "  368.95691973  328.07919598  248.76916449  284.27801922  311.13351086\n",
      "  244.53758392  255.19974101  284.93219012  296.67691861  289.85791733\n",
      "  294.25541323  397.02450181  399.89641096  286.33995811  261.54879699\n",
      "  247.27485222  215.06397586  232.2083886   205.64872475  279.39627424\n",
      "  353.11995224  376.00692174  528.03183338  640.08528893  720.01521613\n",
      "  843.34966645  564.81591416  888.18429314 1191.15235065 1011.9416543\n",
      "  609.1080943 ]\n"
     ]
    }
   ],
   "source": [
    "# Predictions in numpy array. \n",
    "\n",
    "predict_array = model.predict(X)\n",
    "print(predict_array)"
   ]
  },
  {
   "cell_type": "code",
   "execution_count": 32,
   "id": "bfa9bfc2-1048-425b-92fa-49f012bb523d",
   "metadata": {},
   "outputs": [
    {
     "name": "stdout",
     "output_type": "stream",
     "text": [
      "[1510.34822355]\n"
     ]
    }
   ],
   "source": [
    "# Predict the High based on hypothetical Open and Low values.\n",
    "\n",
    "new_X = [[1300, 900]]\n",
    "print(model.predict(new_X)) "
   ]
  },
  {
   "cell_type": "markdown",
   "id": "5daebc6f-6a9e-4cf1-b68c-6e1702c1557e",
   "metadata": {},
   "source": [
    "## Gold Case Study"
   ]
  },
  {
   "cell_type": "code",
   "execution_count": 33,
   "id": "9ad1098c-d46f-48ae-80d9-a752a6120e06",
   "metadata": {},
   "outputs": [
    {
     "data": {
      "image/png": "[encoded data removed]",
      "text/plain": [
       "<Figure size 720x360 with 1 Axes>"
      ]
     },
     "metadata": {},
     "output_type": "display_data"
    }
   ],
   "source": [
    "# Let's make sure the date column is actually a date in pandas.\n",
    "gold[\"Date\"] = pd.to_datetime(aapl[\"Date\"])\n",
    "\n",
    "# Define X and Y axis.\n",
    "date = gold[\"Date\"]\n",
    "high = gold[\"High\"]\n",
    "\n",
    "# Plot the graph\n",
    "fig, ax = plt.subplots(figsize=(10, 5))\n",
    "ax.set_xlabel('Date')\n",
    "ax.set_ylabel('High')\n",
    "ax.set_title('Gold Price History')\n",
    "ax.plot(date, high, color = \"orange\")\n",
    "plt.savefig('gold.png', dpi=300);"
   ]
  },
  {
   "cell_type": "code",
   "execution_count": 34,
   "id": "45c63d78-20c0-4877-849f-c2e26f4fa7a5",
   "metadata": {},
   "outputs": [
    {
     "name": "stdout",
     "output_type": "stream",
     "text": [
      "1407.3196821515894\n"
     ]
    }
   ],
   "source": [
    "# In December of 2017 Gold's high was $1308.8\n",
    "# In December of 2022 Gold's high was $1841.9\n",
    "\n",
    "begin_value = 1308.8\n",
    "end_value   = 1841.9\n",
    "shares      = (1000/begin_value) \n",
    "gold_total  = (shares * end_value)\n",
    "\n",
    "print(gold_total)"
   ]
  },
  {
   "cell_type": "code",
   "execution_count": 35,
   "id": "79df9aa5-cf1a-4c6a-92eb-ed6b89590d1c",
   "metadata": {},
   "outputs": [
    {
     "name": "stdout",
     "output_type": "stream",
     "text": [
      "alpha = -79.4677434426444\n",
      "betas = [0.40538318 0.70085498]\n"
     ]
    }
   ],
   "source": [
    "# Build linear regression model using Open and Low values as predictors.\n",
    "# Split data into predictors X and output Y.\n",
    "\n",
    "predictors = ['Open', 'Low']\n",
    "X = gold[predictors]\n",
    "y = gold['High']\n",
    "\n",
    "# Initialize and fit the model.\n",
    "\n",
    "lm = LinearRegression()\n",
    "model = lm.fit(X, y)\n",
    "\n",
    "print(f'alpha = {model.intercept_}')\n",
    "print(f'betas = {model.coef_}')"
   ]
  },
  {
   "cell_type": "code",
   "execution_count": 36,
   "id": "9388169b-1b5e-4f4f-bb3c-347da55ba45f",
   "metadata": {},
   "outputs": [
    {
     "name": "stdout",
     "output_type": "stream",
     "text": [
      "[1889.56123661 1733.44962707 1733.88085923 1746.91007791 1846.17502315\n",
      " 1833.7961795  1932.25147876 1943.0610967  2026.67726693 2019.72550565\n",
      " 1903.25518258 1909.02861886 1869.65909253 1879.46064756 1856.14385452\n",
      " 1863.39553079 1831.05385529 1880.98339601 1924.70883897 1882.55211035\n",
      " 1809.27104124 1800.96757114 1882.04244446 1962.45866541 1888.63642021\n",
      " 1925.66276206 1997.16096107 2017.31695081 2032.39347423 1894.24570187\n",
      " 1801.49100706 1787.83671844 1669.39572408 1585.39476061 1655.34965378\n",
      " 1607.46022828 1539.6752392  1552.46794446 1546.44113555 1572.14599114\n",
      " 1481.53450301 1461.11377413 1371.34846759 1332.93717156 1335.00934089\n",
      " 1353.32964217 1372.4758396  1338.88958776 1277.93043782 1256.91177689\n",
      " 1236.62507898 1237.74430962 1233.30795792 1280.11095767 1326.35714014\n",
      " 1352.30790688 1382.44097279 1369.24247642 1384.48902253 1370.10962335\n",
      " 1306.44013821]\n"
     ]
    }
   ],
   "source": [
    "# Predictions in numpy array. \n",
    "\n",
    "predict_array = model.predict(X)\n",
    "print(predict_array)"
   ]
  },
  {
   "cell_type": "code",
   "execution_count": 37,
   "id": "6dcfedf9-e7c2-464b-95f1-e82c5c720eca",
   "metadata": {},
   "outputs": [
    {
     "name": "stdout",
     "output_type": "stream",
     "text": [
      "[1742.04276023]\n"
     ]
    }
   ],
   "source": [
    "# Predict the High based on hypothetical Open and Low values.\n",
    "\n",
    "new_X = [[1900, 1500]]\n",
    "print(model.predict(new_X)) "
   ]
  },
  {
   "cell_type": "markdown",
   "id": "d4f527fc-1029-4a16-b2e5-424ff01d0821",
   "metadata": {},
   "source": [
    "## Google Case Study"
   ]
  },
  {
   "cell_type": "code",
   "execution_count": 38,
   "id": "21b95d5b-87d8-446d-86d4-9c91a6eaec69",
   "metadata": {},
   "outputs": [
    {
     "data": {
      "image/png": "[encoded data removed]",
      "text/plain": [
       "<Figure size 720x360 with 1 Axes>"
      ]
     },
     "metadata": {},
     "output_type": "display_data"
    }
   ],
   "source": [
    "# Let's make sure the date column is actually a date in pandas.\n",
    "googl[\"Date\"] = pd.to_datetime(aapl[\"Date\"])\n",
    "\n",
    "# Define X and Y axis.\n",
    "date = googl[\"Date\"]\n",
    "high = googl[\"High\"]\n",
    "\n",
    "# Plot the graph\n",
    "fig, ax = plt.subplots(figsize=(10, 5))\n",
    "ax.set_xlabel('Date')\n",
    "ax.set_ylabel('High')\n",
    "ax.set_title('GOOGL Stock History')\n",
    "ax.plot(date, high, color = \"blue\")\n",
    "plt.savefig('googl.png', dpi=300);"
   ]
  },
  {
   "cell_type": "code",
   "execution_count": 39,
   "id": "27b7a41d-5ffa-44fc-92d2-9cd3c73c5c33",
   "metadata": {},
   "outputs": [
    {
     "name": "stdout",
     "output_type": "stream",
     "text": [
      "1882.3637702503681\n"
     ]
    }
   ],
   "source": [
    "# In December of 2017 Google's high was $54.32\n",
    "# In December of 2022 Google's high was $102.25\n",
    "\n",
    "begin_value = 54.32\n",
    "end_value   = 102.25\n",
    "shares      = (1000/begin_value) \n",
    "googl_total = (shares * end_value)\n",
    "\n",
    "print(googl_total)"
   ]
  },
  {
   "cell_type": "code",
   "execution_count": 40,
   "id": "1b13e50e-af85-4d35-8dda-45c3639997cb",
   "metadata": {},
   "outputs": [
    {
     "name": "stdout",
     "output_type": "stream",
     "text": [
      "alpha = 1.0617955644241022\n",
      "betas = [0.65108435 0.42839407]\n"
     ]
    }
   ],
   "source": [
    "# Build linear regression model using Open and Low values as predictors.\n",
    "# Split data into predictors X and output Y.\n",
    "\n",
    "predictors = ['Open', 'Low']\n",
    "X = googl[predictors]\n",
    "y = googl['High']\n",
    "\n",
    "# Initialize and fit the model.\n",
    "\n",
    "lm = LinearRegression()\n",
    "model = lm.fit(X, y)\n",
    "\n",
    "print(f'alpha = {model.intercept_}')\n",
    "print(f'betas = {model.coef_}')"
   ]
  },
  {
   "cell_type": "code",
   "execution_count": 41,
   "id": "4b565b2b-17cb-49ab-aa51-7cfe0138ff65",
   "metadata": {},
   "outputs": [
    {
     "name": "stdout",
     "output_type": "stream",
     "text": [
      "[103.65052322  98.9101588  103.38729315 112.49854658 122.31270216\n",
      " 115.91630061 120.84814135 118.53954899 140.18521017 142.54926213\n",
      " 144.17233068 148.8366426  154.50180418 158.11543428 144.74112965\n",
      " 152.68533868 146.14981071 132.3745143  128.25787119 125.03878185\n",
      " 113.9688976  110.44372206 100.62209049  94.68931967  94.85705416\n",
      "  88.4496693   80.0579519   84.23149782  80.95857998  77.55448592\n",
      "  76.42847031  71.92351545  60.67891745  66.66376214  75.80750802\n",
      "  73.79739142  70.81988082  69.25346672  65.77147031  64.4626209\n",
      "  65.17824811  60.3671324   57.79518127  63.68322744  65.06269367\n",
      "  62.08916461  61.01872634  56.40099278  58.8595829   58.05829553\n",
      "  62.1239869   65.52951259  67.19230507  61.07581381  60.97832102\n",
      "  55.73016871  55.80997882  58.26094369  60.70099988  57.89633452\n",
      "  56.0767722 ]\n"
     ]
    }
   ],
   "source": [
    "# Predictions in numpy array. \n",
    "\n",
    "predict_array = model.predict(X)\n",
    "print(predict_array)"
   ]
  },
  {
   "cell_type": "code",
   "execution_count": 42,
   "id": "c733e6ca-c17e-4965-b3b9-94c88ae87565",
   "metadata": {},
   "outputs": [
    {
     "name": "stdout",
     "output_type": "stream",
     "text": [
      "[105.83914851]\n"
     ]
    }
   ],
   "source": [
    "# Predict the High based on hypothetical Open and Low values.\n",
    "\n",
    "new_X = [[105, 85]]\n",
    "print(model.predict(new_X)) "
   ]
  },
  {
   "cell_type": "markdown",
   "id": "b88e3d57-8e01-417d-abe2-753d63f60407",
   "metadata": {},
   "source": [
    "## Microsoft Case Study"
   ]
  },
  {
   "cell_type": "code",
   "execution_count": 43,
   "id": "07723192-327a-4756-a310-751db2527e7f",
   "metadata": {},
   "outputs": [
    {
     "data": {
      "image/png": "[encoded data removed]",
      "text/plain": [
       "<Figure size 720x360 with 1 Axes>"
      ]
     },
     "metadata": {},
     "output_type": "display_data"
    }
   ],
   "source": [
    "# Let's make sure the date column is actually a date in pandas.\n",
    "msft[\"Date\"] = pd.to_datetime(aapl[\"Date\"])\n",
    "\n",
    "# Define X and Y axis.\n",
    "date = msft[\"Date\"]\n",
    "high = msft[\"High\"]\n",
    "\n",
    "# Plot the graph\n",
    "fig, ax = plt.subplots(figsize=(10, 5))\n",
    "ax.set_xlabel('Date')\n",
    "ax.set_ylabel('High')\n",
    "ax.set_title('MSFT Stock History')\n",
    "ax.plot(date, high, color = \"black\")\n",
    "plt.savefig('msft.png', dpi=300);"
   ]
  },
  {
   "cell_type": "code",
   "execution_count": 44,
   "id": "c89e4557-cb40-42c6-848a-4560461be934",
   "metadata": {},
   "outputs": [
    {
     "name": "stdout",
     "output_type": "stream",
     "text": [
      "3016.2285714285717\n"
     ]
    }
   ],
   "source": [
    "# In December of 2017 Microsoft's high was $87.5\n",
    "# In December of 2022 Microsoft's high was $263.92\n",
    "\n",
    "begin_value = 87.5\n",
    "end_value   = 263.92\n",
    "shares      = (1000/begin_value) \n",
    "msft_total  = (shares * end_value)\n",
    "\n",
    "print(msft_total)"
   ]
  },
  {
   "cell_type": "code",
   "execution_count": 45,
   "id": "a5584911-ee26-40af-b564-b145d7e09237",
   "metadata": {},
   "outputs": [
    {
     "name": "stdout",
     "output_type": "stream",
     "text": [
      "alpha = 1.2006260025690665\n",
      "betas = [0.616142   0.46473455]\n"
     ]
    }
   ],
   "source": [
    "# Build linear regression model using Open and Low values as predictors.\n",
    "# Split data into predictors X and output Y.\n",
    "\n",
    "predictors = ['Open', 'Low']\n",
    "X = msft[predictors]\n",
    "y = msft['High']\n",
    "\n",
    "# Initialize and fit the model.\n",
    "\n",
    "lm = LinearRegression()\n",
    "model = lm.fit(X, y)\n",
    "\n",
    "print(f'alpha = {model.intercept_}')\n",
    "print(f'betas = {model.coef_}')"
   ]
  },
  {
   "cell_type": "code",
   "execution_count": 46,
   "id": "d27027b7-989a-4485-a76e-e581062d0010",
   "metadata": {},
   "outputs": [
    {
     "name": "stdout",
     "output_type": "stream",
     "text": [
      "[266.30806519 244.93583461 248.08389658 268.85897779 293.51490475\n",
      " 273.4700891  283.000946   286.83860377 317.29480552 309.3034438\n",
      " 318.64198972 336.11381867 355.12533107 357.04085487 305.26846526\n",
      " 318.68393663 309.50283092 292.61110586 268.9244768  267.97036358\n",
      " 258.76206886 250.76989442 251.93467423 236.80654621 230.54988859\n",
      " 220.07495373 225.51109284 231.3509642  225.93315873 218.15343325\n",
      " 197.9507977  190.28925475 165.34783925 164.64168279 176.84935894\n",
      " 171.7672575  162.89046507 156.52372248 149.16295474 147.88322922\n",
      " 146.39006471 147.96990959 132.81787173 138.80658053 129.3758675\n",
      " 121.32001564 112.70942416 107.70976056 114.49113047 113.33000483\n",
      " 118.42749648 119.33345271 115.2529327  107.18814231 107.57128629\n",
      " 101.59593116  97.61191339  99.58089736  98.56342366  94.00374066\n",
      "  90.21417555]\n"
     ]
    }
   ],
   "source": [
    "# Predictions in numpy array. \n",
    "\n",
    "predict_array = model.predict(X)\n",
    "print(predict_array)"
   ]
  },
  {
   "cell_type": "code",
   "execution_count": 47,
   "id": "4115b79d-267f-4b13-83aa-a9baeb8bb5e2",
   "metadata": {},
   "outputs": [
    {
     "name": "stdout",
     "output_type": "stream",
     "text": [
      "[225.59822358]\n"
     ]
    }
   ],
   "source": [
    "# Predict the High based on hypothetical Open and Low values.\n",
    "\n",
    "new_X = [[285, 105]]\n",
    "print(model.predict(new_X))"
   ]
  },
  {
   "cell_type": "code",
   "execution_count": 62,
   "id": "3881650a-0137-420a-9d53-dcaaf7fff4da",
   "metadata": {},
   "outputs": [
    {
     "data": {
      "image/png": "[encoded data removed]",
      "text/plain": [
       "<Figure size 720x360 with 1 Axes>"
      ]
     },
     "metadata": {},
     "output_type": "display_data"
    }
   ],
   "source": [
    "fig, ax = plt.subplots(figsize=(10, 5))\n",
    "\n",
    "assets = ['APPL', 'AMZN', 'BTC', 'ETH', 'GOLD', 'GOOGL', 'MSFT']\n",
    "value = [3406.77, 1627.55, 923.57, 1562.49, 1407.32, 1882.36, 3016.23]\n",
    "ax.bar(assets, value, color='green')\n",
    "\n",
    "ax.set_ylabel('Ending Value')\n",
    "ax.set_title('AAPL is declared the winner!')\n",
    "plt.show()\n",
    "#plt.savefig('results.png', dpi=300);"
   ]
  },
  {
   "cell_type": "code",
   "execution_count": null,
   "id": "ff2cc85c-9388-4833-a7b2-00665e2a0313",
   "metadata": {},
   "outputs": [],
   "source": []
  }
 ],
 "metadata": {
  "kernelspec": {
   "display_name": "Python 3 (ipykernel)",
   "language": "python",
   "name": "python3"
  },
  "language_info": {
   "codemirror_mode": {
    "name": "ipython",
    "version": 3
   },
   "file_extension": ".py",
   "mimetype": "text/x-python",
   "name": "python",
   "nbconvert_exporter": "python",
   "pygments_lexer": "ipython3",
   "version": "3.9.12"
  }
 },
 "nbformat": 4,
 "nbformat_minor": 5
}
